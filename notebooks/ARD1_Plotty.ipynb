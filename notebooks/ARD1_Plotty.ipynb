{
 "cells": [
  {
   "cell_type": "code",
   "execution_count": 51,
   "metadata": {},
   "outputs": [
    {
     "data": {
      "text/html": [
       "<div>\n",
       "<style scoped>\n",
       "    .dataframe tbody tr th:only-of-type {\n",
       "        vertical-align: middle;\n",
       "    }\n",
       "\n",
       "    .dataframe tbody tr th {\n",
       "        vertical-align: top;\n",
       "    }\n",
       "\n",
       "    .dataframe thead th {\n",
       "        text-align: right;\n",
       "    }\n",
       "</style>\n",
       "<table border=\"1\" class=\"dataframe\">\n",
       "  <thead>\n",
       "    <tr style=\"text-align: right;\">\n",
       "      <th></th>\n",
       "      <th>ID</th>\n",
       "      <th>mese</th>\n",
       "      <th>annrif</th>\n",
       "      <th>progind</th>\n",
       "      <th>sesso</th>\n",
       "      <th>eta10</th>\n",
       "      <th>staciv4</th>\n",
       "      <th>reg</th>\n",
       "      <th>rip</th>\n",
       "      <th>istr4</th>\n",
       "      <th>...</th>\n",
       "      <th>progesc</th>\n",
       "      <th>DEST_EIE</th>\n",
       "      <th>DEST_ERE</th>\n",
       "      <th>DEST_EPR</th>\n",
       "      <th>MOTESC</th>\n",
       "      <th>PARTESC</th>\n",
       "      <th>NPARTESC</th>\n",
       "      <th>EMEZZO</th>\n",
       "      <th>TRIM</th>\n",
       "      <th>Età</th>\n",
       "    </tr>\n",
       "  </thead>\n",
       "  <tbody>\n",
       "    <tr>\n",
       "      <th>0</th>\n",
       "      <td>0</td>\n",
       "      <td>1</td>\n",
       "      <td>2014</td>\n",
       "      <td>16</td>\n",
       "      <td>2</td>\n",
       "      <td>1</td>\n",
       "      <td>1</td>\n",
       "      <td>170</td>\n",
       "      <td>4</td>\n",
       "      <td>1</td>\n",
       "      <td>...</td>\n",
       "      <td>1</td>\n",
       "      <td>1</td>\n",
       "      <td>17</td>\n",
       "      <td>77</td>\n",
       "      <td>5</td>\n",
       "      <td>1</td>\n",
       "      <td>4</td>\n",
       "      <td>5</td>\n",
       "      <td>1</td>\n",
       "      <td>&lt;=14</td>\n",
       "    </tr>\n",
       "    <tr>\n",
       "      <th>1</th>\n",
       "      <td>1</td>\n",
       "      <td>3</td>\n",
       "      <td>2014</td>\n",
       "      <td>21</td>\n",
       "      <td>1</td>\n",
       "      <td>1</td>\n",
       "      <td>1</td>\n",
       "      <td>180</td>\n",
       "      <td>4</td>\n",
       "      <td>1</td>\n",
       "      <td>...</td>\n",
       "      <td>1</td>\n",
       "      <td>1</td>\n",
       "      <td>18</td>\n",
       "      <td>78</td>\n",
       "      <td>3</td>\n",
       "      <td>1</td>\n",
       "      <td>4</td>\n",
       "      <td>5</td>\n",
       "      <td>1</td>\n",
       "      <td>&lt;=14</td>\n",
       "    </tr>\n",
       "    <tr>\n",
       "      <th>2</th>\n",
       "      <td>2</td>\n",
       "      <td>7</td>\n",
       "      <td>2014</td>\n",
       "      <td>33</td>\n",
       "      <td>1</td>\n",
       "      <td>4</td>\n",
       "      <td>3</td>\n",
       "      <td>150</td>\n",
       "      <td>4</td>\n",
       "      <td>2</td>\n",
       "      <td>...</td>\n",
       "      <td>1</td>\n",
       "      <td>1</td>\n",
       "      <td>15</td>\n",
       "      <td>63</td>\n",
       "      <td>1</td>\n",
       "      <td>2</td>\n",
       "      <td>1</td>\n",
       "      <td>3</td>\n",
       "      <td>3</td>\n",
       "      <td>35-44</td>\n",
       "    </tr>\n",
       "    <tr>\n",
       "      <th>3</th>\n",
       "      <td>3</td>\n",
       "      <td>7</td>\n",
       "      <td>2014</td>\n",
       "      <td>33</td>\n",
       "      <td>1</td>\n",
       "      <td>4</td>\n",
       "      <td>3</td>\n",
       "      <td>150</td>\n",
       "      <td>4</td>\n",
       "      <td>2</td>\n",
       "      <td>...</td>\n",
       "      <td>2</td>\n",
       "      <td>1</td>\n",
       "      <td>15</td>\n",
       "      <td>63</td>\n",
       "      <td>7</td>\n",
       "      <td>2</td>\n",
       "      <td>1</td>\n",
       "      <td>5</td>\n",
       "      <td>3</td>\n",
       "      <td>35-44</td>\n",
       "    </tr>\n",
       "    <tr>\n",
       "      <th>4</th>\n",
       "      <td>4</td>\n",
       "      <td>3</td>\n",
       "      <td>2014</td>\n",
       "      <td>39</td>\n",
       "      <td>2</td>\n",
       "      <td>8</td>\n",
       "      <td>4</td>\n",
       "      <td>40</td>\n",
       "      <td>2</td>\n",
       "      <td>1</td>\n",
       "      <td>...</td>\n",
       "      <td>1</td>\n",
       "      <td>1</td>\n",
       "      <td>4</td>\n",
       "      <td>22</td>\n",
       "      <td>2</td>\n",
       "      <td>2</td>\n",
       "      <td>1</td>\n",
       "      <td>5</td>\n",
       "      <td>1</td>\n",
       "      <td>&gt;=75</td>\n",
       "    </tr>\n",
       "    <tr>\n",
       "      <th>...</th>\n",
       "      <td>...</td>\n",
       "      <td>...</td>\n",
       "      <td>...</td>\n",
       "      <td>...</td>\n",
       "      <td>...</td>\n",
       "      <td>...</td>\n",
       "      <td>...</td>\n",
       "      <td>...</td>\n",
       "      <td>...</td>\n",
       "      <td>...</td>\n",
       "      <td>...</td>\n",
       "      <td>...</td>\n",
       "      <td>...</td>\n",
       "      <td>...</td>\n",
       "      <td>...</td>\n",
       "      <td>...</td>\n",
       "      <td>...</td>\n",
       "      <td>...</td>\n",
       "      <td>...</td>\n",
       "      <td>...</td>\n",
       "      <td>...</td>\n",
       "    </tr>\n",
       "    <tr>\n",
       "      <th>37824</th>\n",
       "      <td>37824</td>\n",
       "      <td>1</td>\n",
       "      <td>2022</td>\n",
       "      <td>62880</td>\n",
       "      <td>1</td>\n",
       "      <td>5</td>\n",
       "      <td>2</td>\n",
       "      <td>30</td>\n",
       "      <td>1</td>\n",
       "      <td>2</td>\n",
       "      <td>...</td>\n",
       "      <td>1</td>\n",
       "      <td>1</td>\n",
       "      <td>2</td>\n",
       "      <td>7</td>\n",
       "      <td>1</td>\n",
       "      <td>1</td>\n",
       "      <td>4</td>\n",
       "      <td>5</td>\n",
       "      <td>1</td>\n",
       "      <td>45-54</td>\n",
       "    </tr>\n",
       "    <tr>\n",
       "      <th>37825</th>\n",
       "      <td>37825</td>\n",
       "      <td>8</td>\n",
       "      <td>2022</td>\n",
       "      <td>62883</td>\n",
       "      <td>2</td>\n",
       "      <td>4</td>\n",
       "      <td>1</td>\n",
       "      <td>120</td>\n",
       "      <td>3</td>\n",
       "      <td>4</td>\n",
       "      <td>...</td>\n",
       "      <td>1</td>\n",
       "      <td>1</td>\n",
       "      <td>12</td>\n",
       "      <td>59</td>\n",
       "      <td>1</td>\n",
       "      <td>2</td>\n",
       "      <td>1</td>\n",
       "      <td>5</td>\n",
       "      <td>3</td>\n",
       "      <td>35-44</td>\n",
       "    </tr>\n",
       "    <tr>\n",
       "      <th>37826</th>\n",
       "      <td>37826</td>\n",
       "      <td>12</td>\n",
       "      <td>2022</td>\n",
       "      <td>62899</td>\n",
       "      <td>1</td>\n",
       "      <td>6</td>\n",
       "      <td>2</td>\n",
       "      <td>40</td>\n",
       "      <td>2</td>\n",
       "      <td>3</td>\n",
       "      <td>...</td>\n",
       "      <td>1</td>\n",
       "      <td>1</td>\n",
       "      <td>4</td>\n",
       "      <td>21</td>\n",
       "      <td>9</td>\n",
       "      <td>1</td>\n",
       "      <td>3</td>\n",
       "      <td>5</td>\n",
       "      <td>4</td>\n",
       "      <td>55-64</td>\n",
       "    </tr>\n",
       "    <tr>\n",
       "      <th>37827</th>\n",
       "      <td>37827</td>\n",
       "      <td>12</td>\n",
       "      <td>2022</td>\n",
       "      <td>62899</td>\n",
       "      <td>1</td>\n",
       "      <td>6</td>\n",
       "      <td>2</td>\n",
       "      <td>40</td>\n",
       "      <td>2</td>\n",
       "      <td>3</td>\n",
       "      <td>...</td>\n",
       "      <td>2</td>\n",
       "      <td>1</td>\n",
       "      <td>4</td>\n",
       "      <td>21</td>\n",
       "      <td>9</td>\n",
       "      <td>1</td>\n",
       "      <td>3</td>\n",
       "      <td>5</td>\n",
       "      <td>4</td>\n",
       "      <td>55-64</td>\n",
       "    </tr>\n",
       "    <tr>\n",
       "      <th>37828</th>\n",
       "      <td>37828</td>\n",
       "      <td>3</td>\n",
       "      <td>2022</td>\n",
       "      <td>62917</td>\n",
       "      <td>1</td>\n",
       "      <td>5</td>\n",
       "      <td>2</td>\n",
       "      <td>20</td>\n",
       "      <td>1</td>\n",
       "      <td>2</td>\n",
       "      <td>...</td>\n",
       "      <td>1</td>\n",
       "      <td>1</td>\n",
       "      <td>3</td>\n",
       "      <td>15</td>\n",
       "      <td>6</td>\n",
       "      <td>1</td>\n",
       "      <td>2</td>\n",
       "      <td>5</td>\n",
       "      <td>1</td>\n",
       "      <td>45-54</td>\n",
       "    </tr>\n",
       "  </tbody>\n",
       "</table>\n",
       "<p>37829 rows × 27 columns</p>\n",
       "</div>"
      ],
      "text/plain": [
       "          ID  mese  annrif  progind  sesso  eta10  staciv4  reg  rip  istr4  \\\n",
       "0          0     1    2014       16      2      1        1  170    4      1   \n",
       "1          1     3    2014       21      1      1        1  180    4      1   \n",
       "2          2     7    2014       33      1      4        3  150    4      2   \n",
       "3          3     7    2014       33      1      4        3  150    4      2   \n",
       "4          4     3    2014       39      2      8        4   40    2      1   \n",
       "...      ...   ...     ...      ...    ...    ...      ...  ...  ...    ...   \n",
       "37824  37824     1    2022    62880      1      5        2   30    1      2   \n",
       "37825  37825     8    2022    62883      2      4        1  120    3      4   \n",
       "37826  37826    12    2022    62899      1      6        2   40    2      3   \n",
       "37827  37827    12    2022    62899      1      6        2   40    2      3   \n",
       "37828  37828     3    2022    62917      1      5        2   20    1      2   \n",
       "\n",
       "       ...  progesc  DEST_EIE  DEST_ERE  DEST_EPR  MOTESC  PARTESC  NPARTESC  \\\n",
       "0      ...        1         1        17        77       5        1         4   \n",
       "1      ...        1         1        18        78       3        1         4   \n",
       "2      ...        1         1        15        63       1        2         1   \n",
       "3      ...        2         1        15        63       7        2         1   \n",
       "4      ...        1         1         4        22       2        2         1   \n",
       "...    ...      ...       ...       ...       ...     ...      ...       ...   \n",
       "37824  ...        1         1         2         7       1        1         4   \n",
       "37825  ...        1         1        12        59       1        2         1   \n",
       "37826  ...        1         1         4        21       9        1         3   \n",
       "37827  ...        2         1         4        21       9        1         3   \n",
       "37828  ...        1         1         3        15       6        1         2   \n",
       "\n",
       "       EMEZZO  TRIM    Età  \n",
       "0           5     1   <=14  \n",
       "1           5     1   <=14  \n",
       "2           3     3  35-44  \n",
       "3           5     3  35-44  \n",
       "4           5     1   >=75  \n",
       "...       ...   ...    ...  \n",
       "37824       5     1  45-54  \n",
       "37825       5     3  35-44  \n",
       "37826       5     4  55-64  \n",
       "37827       5     4  55-64  \n",
       "37828       5     1  45-54  \n",
       "\n",
       "[37829 rows x 27 columns]"
      ]
     },
     "execution_count": 51,
     "metadata": {},
     "output_type": "execute_result"
    }
   ],
   "source": [
    "import pandas as pd\n",
    "import plotly.express as px\n",
    "\n",
    "data = pd.read_csv(\"../data/ISTAT_Italian_Excursion_2014_2022.csv\")\n",
    "# Convertire dati numerici in valori corretti \n",
    "\n",
    "dizionario_nomi = {\n",
    "    'mese'    : 'Mese',\n",
    "    'annrif'  : 'Anno',\n",
    "    'progind' : 'Indice progressivo', # indice dell'intervista individuale\n",
    "    'sesso'   : 'Sesso',\n",
    "    'eta10'   : 'Età (0-10)', # TODO: convertre le categorie di età in range corretti\n",
    "    'staciv4' : 'Stato civile',\n",
    "    'reg'     : 'Regione',\n",
    "    'rip'     : 'Zona d\\'Italia',\n",
    "    'istr4'   : 'Livello di istruzione',\n",
    "    'condogg' : 'Stato di impiego',\n",
    "    'posiz4'  : 'Grado di impiego',\n",
    "    'ateco3'  : 'Settore di lavoro',\n",
    "    'cond4'   : 'Impiego',\n",
    "    'ORARIO'  : 'Tipo di impiego',\n",
    "    'RAPP'    : 'Rapporto di lavoro',\n",
    "    'CODPROF7': 'Categoria Professionale',\n",
    "    'progesc' : 'Indice dell escursione',\n",
    "    'DEST_EIE': 'Destinazione (italia o estero)',\n",
    "    'DEST_ERE': 'Destinazione (regioni italiani o paesi esteri)',\n",
    "    'DEST_EPR': 'Destinazioe (città)',\n",
    "    'MOTESC'  : 'Motivo dell escursione',\n",
    "    'PARTESC' : 'Partecipanti fuori dalla famiglia',\n",
    "    'NPARTESC': 'Partecipanti escursione',\n",
    "    'EMEZZO'  : 'Mezzo',\n",
    "    'TRIM'    : 'Stagione'\n",
    "}\n",
    "\n",
    "eta_mapping = {\n",
    "    1: ' <=14',\n",
    "    2: '15-24',\n",
    "    3: '25-34',\n",
    "    4: '35-44',\n",
    "    5: '45-54',\n",
    "    6: '55-64',\n",
    "    7: '65-74',\n",
    "    8: '>=75'\n",
    "}\n",
    "\n",
    "stato_civile_mapping = {\n",
    "    '1': 'Celibe/nubile',\n",
    "    '2': 'Coniugato',\n",
    "    '3': 'Separato/Divorziato',\n",
    "    '4': 'Vedovo'\n",
    "}\n",
    "\n",
    "regione_mapping = {\n",
    "    '010': 'Piemonte',\n",
    "    '020': \"Valle d'Aosta/Vallee d'Aoste\",\n",
    "    '030': 'Lombardia',\n",
    "    '040': 'Trentino A.Adige/Sudtirol',\n",
    "    '050': 'Veneto',\n",
    "    '060': 'Friuli-Venezia Giulia',\n",
    "    '070': 'Liguria',\n",
    "    '080': 'Emilia-Romagna',\n",
    "    '090': 'Toscana',\n",
    "    '100': 'Umbria',\n",
    "    '110': 'Marche',\n",
    "    '120': 'Lazio',\n",
    "    '130': 'Abruzzo',\n",
    "    '140': 'Molise',\n",
    "    '150': 'Campania',\n",
    "    '160': 'Puglia',\n",
    "    '170': 'Basilicata',\n",
    "    '180': 'Calabria',\n",
    "    '190': 'Sicilia',\n",
    "    '200': 'Sardegna'\n",
    "}\n",
    "\n",
    "zona_mapping = {\n",
    "    '1': 'Nord-Ovest',\n",
    "    '2': 'Nord-Est',\n",
    "    '3': 'Centro',\n",
    "    '4': 'Sud',\n",
    "    '5': 'Isole (Sicilia e Sardegna)'\n",
    "}\n",
    "\n",
    "livello_di_istruzione_mapping = {\n",
    "    '1': 'Nessun titolo/Licenza elementare',\n",
    "    '2': 'Licenza media (o avvio professionale)',\n",
    "    '3': 'Diploma di scuola superiore o qualifica professionale',\n",
    "    '4': 'Laurea universitaria, Laurea triennale, Laurea specialistica'\n",
    "}\n",
    "\n",
    "stato_di_impiego_mapping = {\n",
    "    '0': 'Nessuno (meno di 14 anni)',\n",
    "    '1': 'Impiegato',\n",
    "    '2': 'Cercatore di lavoro',\n",
    "    '3': 'Inattivo'\n",
    "}\n",
    "\n",
    "grado_di_impiego_mapping = {\n",
    "    '0': 'Nessuno (meno di 14 anni)',\n",
    "    '1': 'Manager, Esecutivo, Supervisore, Dipendente',\n",
    "    '2': 'Apprendista lavoratore, Lavoratore domestico per conto di un\\'azienda',\n",
    "    '3': 'Imprenditore, Professionista autonomo',\n",
    "    '4': 'Lavoratore autonomo, Socio cooperativo, Assistente, Freelancer, Fornitore di lavoro occasionale'\n",
    "}\n",
    "\n",
    "settore_di_lavoro_mapping = {\n",
    "    '0': 'Nessuno (meno di 14 anni)',\n",
    "    '1': 'Settore Primario',\n",
    "    '2': 'Settore Secondario',\n",
    "    '3': 'Settore Terziario'\n",
    "}\n",
    "\n",
    "impiego_mapping = {\n",
    "    '0': 'Nessuno (meno di 14 anni)',\n",
    "    '1': 'Impiegato',\n",
    "    '2': 'Cercatore di Lavoro',\n",
    "    '3': 'Casalinga/Studente/Altra Condizione',\n",
    "    '4': 'Pensionato'\n",
    "}\n",
    "\n",
    "tipo_di_impiego_mapping = {\n",
    "    '0': 'Nessuno (meno di 14 anni)',\n",
    "    '1': 'Tempo Pieno',\n",
    "    '2': 'Tempo Parziale'\n",
    "}\n",
    "\n",
    "RAPP_mapping = {\n",
    "    '0': 'Nessuno (meno di 14 anni)',\n",
    "    '1': 'A Termine',\n",
    "    '2': 'A Tempo Indeterminato'\n",
    "}\n",
    "\n",
    "destinazione_italia_estero_mapping = {\n",
    "    '1': 'Italia',\n",
    "    '2': 'Estero'\n",
    "}\n",
    "\n",
    "destinazione_regioni_stato_mapping = {\n",
    "    '001': 'Piemonte',\n",
    "    '002': 'Valle d\\'Aosta',\n",
    "    '003': 'Lombardia',\n",
    "    '004': 'Trentino-Alto Adige/Sudtirol',\n",
    "    '005': 'Veneto',\n",
    "    '006': 'Friuli-Venezia Giulia',\n",
    "    '007': 'Liguria',\n",
    "    '008': 'Emilia-Romagna',\n",
    "    '009': 'Toscana',\n",
    "    '010': 'Umbria',\n",
    "    '011': 'Marche',\n",
    "    '012': 'Lazio',\n",
    "    '013': 'Abruzzo',\n",
    "    '014': 'Molise',\n",
    "    '015': 'Campania',\n",
    "    '016': 'Puglia',\n",
    "    '017': 'Basilicata',\n",
    "    '018': 'Calabria',\n",
    "    '019': 'Sicilia',\n",
    "    '020': 'Sardegna',\n",
    "    '121': 'Austria',\n",
    "    '122': 'Belgio',\n",
    "    '123': 'Danimarca',\n",
    "    '124': 'Finlandia',\n",
    "    '125': 'Francia',\n",
    "    '126': 'Germania',\n",
    "    '127': 'Grecia',\n",
    "    '128': 'Irlanda',\n",
    "    '130': 'Lussemburgo',\n",
    "    '132': 'Paesi Bassi',\n",
    "    '133': 'Polonia',\n",
    "    '134': 'Portogallo',\n",
    "    '135': 'Regno Unito',\n",
    "    '136': 'Repubblica Ceca',\n",
    "    '137': 'Slovacchia',\n",
    "    '138': 'Spagna',\n",
    "    '139': 'Svezia',\n",
    "    '142': 'Ungheria',\n",
    "    '159': 'Bulgaria',\n",
    "    '161': 'Cipro',\n",
    "    '163': 'Estonia',\n",
    "    '164': 'Lettonia',\n",
    "    '165': 'Lituania',\n",
    "    '166': 'Malta',\n",
    "    '167': 'Romania',\n",
    "    '169': 'Slovenia',\n",
    "    '172': 'Croazia',\n",
    "    '200': 'Paesi Extra-UE (escluso Regno Unito)',\n",
    "    '235': 'Regno Unito (Non-UE dal 2020)',\n",
    "    '300': 'Nord America',\n",
    "    '400': 'America Centrale e Meridionale',\n",
    "    '500': 'Africa',\n",
    "    '600': 'Asia-Oceania'\n",
    "}\n",
    "\n",
    "destinazione_citta_mapping = {\n",
    "    '001': 'Torino',\n",
    "    '002': 'Vercelli',\n",
    "    '003': 'Novara',\n",
    "    '004': 'Cuneo',\n",
    "    '005': 'Asti',\n",
    "    '006': 'Alessandria',\n",
    "    '007': 'Valle d\\'Aosta/Vallee d\\'Aoste',\n",
    "    '008': 'Imperia',\n",
    "    '009': 'Savona',\n",
    "    '010': 'Genova',\n",
    "    '011': 'La Spezia',\n",
    "    '012': 'Varese',\n",
    "    '013': 'Como',\n",
    "    '014': 'Sondrio',\n",
    "    '015': 'Milano',\n",
    "    '016': 'Bergamo',\n",
    "    '017': 'Brescia',\n",
    "    '018': 'Pavia',\n",
    "    '019': 'Cremona',\n",
    "    '020': 'Mantova',\n",
    "    '021': 'Bolzano/Bozen',\n",
    "    '022': 'Trento',\n",
    "    '023': 'Verona',\n",
    "    '024': 'Vicenza',\n",
    "    '025': 'Belluno',\n",
    "    '026': 'Treviso',\n",
    "    '027': 'Venezia',\n",
    "    '028': 'Padova',\n",
    "    '029': 'Rovigo',\n",
    "    '030': 'Udine',\n",
    "    '031': 'Gorizia',\n",
    "    '032': 'Trieste',\n",
    "    '033': 'Piacenza',\n",
    "    '034': 'Parma',\n",
    "    '035': 'Reggio nell\\'Emilia',\n",
    "    '036': 'Modena',\n",
    "    '037': 'Bologna',\n",
    "    '038': 'Ferrara',\n",
    "    '039': 'Ravenna',\n",
    "    '040': 'Forlì-Cesena',\n",
    "    '041': 'Pesaro e Urbino',\n",
    "    '042': 'Ancona',\n",
    "    '043': 'Macerata',\n",
    "    '044': 'Ascoli Piceno',\n",
    "    '045': 'Massa-Carrara',\n",
    "    '046': 'Lucca',\n",
    "    '047': 'Pistoia',\n",
    "    '048': 'Firenze',\n",
    "    '049': 'Livorno',\n",
    "    '050': 'Pisa',\n",
    "    '051': 'Arezzo',\n",
    "    '052': 'Siena',\n",
    "    '053': 'Grosseto',\n",
    "    '054': 'Perugia',\n",
    "    '055': 'Terni',\n",
    "    '056': 'Viterbo',\n",
    "    '057': 'Rieti',\n",
    "    '058': 'Roma',\n",
    "    '059': 'Latina',\n",
    "    '060': 'Frosinone',\n",
    "    '061': 'Caserta',\n",
    "    '062': 'Benevento',\n",
    "    '063': 'Napoli',\n",
    "    '064': 'Avellino',\n",
    "    '065': 'Salerno',\n",
    "    '066': \"L'Aquila\",\n",
    "    '067': 'Teramo',\n",
    "    '068': 'Pescara',\n",
    "    '069': 'Chieti',\n",
    "    '070': 'Campobasso',\n",
    "    '071': 'Foggia',\n",
    "    '072': 'Bari',\n",
    "    '073': 'Taranto',\n",
    "    '074': 'Brindisi',\n",
    "    '075': 'Lecce',\n",
    "    '076': 'Potenza',\n",
    "    '077': 'Matera',\n",
    "    '078': 'Cosenza',\n",
    "    '079': 'Catanzaro',\n",
    "    '080': 'Reggio di Calabria',\n",
    "    '081': 'Trapani',\n",
    "    '082': 'Palermo',\n",
    "    '083': 'Messina',\n",
    "    '084': 'Agrigento',\n",
    "    '085': 'Caltanissetta',\n",
    "    '086': 'Enna',\n",
    "    '087': 'Catania',\n",
    "    '088': 'Ragusa',\n",
    "    '089': 'Siracusa',\n",
    "    '090': 'Sassari',\n",
    "    '091': 'Nuoro',\n",
    "    '092': 'Cagliari',\n",
    "    '093': 'Pordenone',\n",
    "    '094': 'Isernia',\n",
    "    '095': 'Oristano',\n",
    "    '096': 'Biella',\n",
    "    '097': 'Lecco',\n",
    "    '098': 'Lodi',\n",
    "    '099': 'Rimini',\n",
    "    '100': 'Prato',\n",
    "    '101': 'Crotone',\n",
    "    '102': 'Vibo Valentia',\n",
    "    '103': 'Verbano-Cusio-Ossola',\n",
    "    '104': 'Olbia-Tempio',\n",
    "    '105': 'Ogliastra',\n",
    "    '106': 'Medio Campidano',\n",
    "    '107': 'Carbonia-Iglesias',\n",
    "    '108': 'Monza e della Brianza',\n",
    "    '109': 'Fermo',\n",
    "    '110': 'Barletta-Andria-Trani',\n",
    "    '111': 'Sud Sardegna',\n",
    "    '999': 'Sconosciuto (Unknown)'\n",
    "}\n",
    "\n",
    "motivo_escursione_mapping = {\n",
    "    '01': 'Piacere, svago, vacanza',\n",
    "    '02': 'Visita a parenti e/o amici',\n",
    "    '03': 'Motivi religiosi, pellegrinaggio',\n",
    "    '04': 'Cultura',\n",
    "    '05': 'Trattamenti sanitari, cure termali/visite mediche',\n",
    "    '06': 'Shopping',\n",
    "    '07': 'Motivi di lavoro',\n",
    "    '08': 'Accompagnamento di un familiare/amico',\n",
    "    '09': 'Bellezze naturali',\n",
    "    '10': 'Gastronomia, folklore, spettacoli',\n",
    "    '11': 'Altro motivo, Non so/Nessuna risposta'\n",
    "}\n",
    "\n",
    "mezzo_mapping = {\n",
    "    '01': 'Aereo',\n",
    "    '02': 'Treno',\n",
    "    '03': 'Nave, barca, motoscafo',\n",
    "    '04': 'Auto a noleggio',\n",
    "    '05': 'Auto personale, di parenti/amici',\n",
    "    '06': 'Autobus turistico',\n",
    "    '07': 'Autobus pubblico',\n",
    "    '08': 'Camper, roulotte',\n",
    "    '09': 'Motocicletta, scooter',\n",
    "    '10': 'Altro',\n",
    "    '11': 'Altro con motore'\n",
    "}\n",
    "\n",
    "stagione_mapping = {\n",
    "    '01': 'Gennaio-Marzo',\n",
    "    '02': 'Aprile-Giugno',\n",
    "    '03': 'Luglio-Settembre',\n",
    "    '04': 'Ottobre-Dicembre'\n",
    "}\n",
    "\n",
    "\n",
    "data['Età'] = data['eta10'].map(eta_mapping)\n"
   ]
  },
  {
   "cell_type": "code",
   "execution_count": 52,
   "metadata": {},
   "outputs": [
    {
     "data": {
      "application/vnd.plotly.v1+json": {
       "config": {
        "plotlyServerURL": "https://plot.ly"
       },
       "data": [
        {
         "hovertemplate": "Età= <=14<br>annrif=%{x}<br>count=%{y}<extra></extra>",
         "legendgroup": " <=14",
         "line": {
          "color": "#FF0000",
          "dash": "solid"
         },
         "marker": {
          "symbol": "circle"
         },
         "mode": "lines",
         "name": " <=14",
         "orientation": "v",
         "showlegend": true,
         "type": "scatter",
         "x": [
          2014,
          2015,
          2016,
          2017,
          2018,
          2019,
          2020,
          2021,
          2022
         ],
         "xaxis": "x",
         "y": [
          708,
          555,
          585,
          498,
          776,
          697,
          463,
          372,
          524
         ],
         "yaxis": "y"
        },
        {
         "hovertemplate": "Età=15-24<br>annrif=%{x}<br>count=%{y}<extra></extra>",
         "legendgroup": "15-24",
         "line": {
          "color": "#FF4500",
          "dash": "solid"
         },
         "marker": {
          "symbol": "circle"
         },
         "mode": "lines",
         "name": "15-24",
         "orientation": "v",
         "showlegend": true,
         "type": "scatter",
         "x": [
          2014,
          2015,
          2016,
          2017,
          2018,
          2019,
          2020,
          2021,
          2022
         ],
         "xaxis": "x",
         "y": [
          356,
          304,
          270,
          264,
          374,
          421,
          241,
          204,
          268
         ],
         "yaxis": "y"
        },
        {
         "hovertemplate": "Età=25-34<br>annrif=%{x}<br>count=%{y}<extra></extra>",
         "legendgroup": "25-34",
         "line": {
          "color": "#FF8C00",
          "dash": "solid"
         },
         "marker": {
          "symbol": "circle"
         },
         "mode": "lines",
         "name": "25-34",
         "orientation": "v",
         "showlegend": true,
         "type": "scatter",
         "x": [
          2014,
          2015,
          2016,
          2017,
          2018,
          2019,
          2020,
          2021,
          2022
         ],
         "xaxis": "x",
         "y": [
          482,
          381,
          406,
          363,
          531,
          495,
          377,
          316,
          434
         ],
         "yaxis": "y"
        },
        {
         "hovertemplate": "Età=35-44<br>annrif=%{x}<br>count=%{y}<extra></extra>",
         "legendgroup": "35-44",
         "line": {
          "color": "#FFD700",
          "dash": "solid"
         },
         "marker": {
          "symbol": "circle"
         },
         "mode": "lines",
         "name": "35-44",
         "orientation": "v",
         "showlegend": true,
         "type": "scatter",
         "x": [
          2014,
          2015,
          2016,
          2017,
          2018,
          2019,
          2020,
          2021,
          2022
         ],
         "xaxis": "x",
         "y": [
          855,
          646,
          695,
          572,
          817,
          739,
          589,
          541,
          611
         ],
         "yaxis": "y"
        },
        {
         "hovertemplate": "Età=45-54<br>annrif=%{x}<br>count=%{y}<extra></extra>",
         "legendgroup": "45-54",
         "line": {
          "color": "#ADFF2F",
          "dash": "solid"
         },
         "marker": {
          "symbol": "circle"
         },
         "mode": "lines",
         "name": "45-54",
         "orientation": "v",
         "showlegend": true,
         "type": "scatter",
         "x": [
          2014,
          2015,
          2016,
          2017,
          2018,
          2019,
          2020,
          2021,
          2022
         ],
         "xaxis": "x",
         "y": [
          854,
          722,
          733,
          709,
          897,
          913,
          677,
          693,
          787
         ],
         "yaxis": "y"
        },
        {
         "hovertemplate": "Età=55-64<br>annrif=%{x}<br>count=%{y}<extra></extra>",
         "legendgroup": "55-64",
         "line": {
          "color": "#7FFF00",
          "dash": "solid"
         },
         "marker": {
          "symbol": "circle"
         },
         "mode": "lines",
         "name": "55-64",
         "orientation": "v",
         "showlegend": true,
         "type": "scatter",
         "x": [
          2014,
          2015,
          2016,
          2017,
          2018,
          2019,
          2020,
          2021,
          2022
         ],
         "xaxis": "x",
         "y": [
          736,
          592,
          579,
          675,
          820,
          873,
          706,
          692,
          892
         ],
         "yaxis": "y"
        },
        {
         "hovertemplate": "Età=65-74<br>annrif=%{x}<br>count=%{y}<extra></extra>",
         "legendgroup": "65-74",
         "line": {
          "color": "#32CD32",
          "dash": "solid"
         },
         "marker": {
          "symbol": "circle"
         },
         "mode": "lines",
         "name": "65-74",
         "orientation": "v",
         "showlegend": true,
         "type": "scatter",
         "x": [
          2014,
          2015,
          2016,
          2017,
          2018,
          2019,
          2020,
          2021,
          2022
         ],
         "xaxis": "x",
         "y": [
          502,
          476,
          425,
          476,
          607,
          624,
          469,
          512,
          605
         ],
         "yaxis": "y"
        },
        {
         "hovertemplate": "Età=>=75<br>annrif=%{x}<br>count=%{y}<extra></extra>",
         "legendgroup": ">=75",
         "line": {
          "color": "#008000",
          "dash": "solid"
         },
         "marker": {
          "symbol": "circle"
         },
         "mode": "lines",
         "name": ">=75",
         "orientation": "v",
         "showlegend": true,
         "type": "scatter",
         "x": [
          2014,
          2015,
          2016,
          2017,
          2018,
          2019,
          2020,
          2021,
          2022
         ],
         "xaxis": "x",
         "y": [
          162,
          214,
          191,
          179,
          286,
          274,
          137,
          187,
          223
         ],
         "yaxis": "y"
        }
       ],
       "layout": {
        "legend": {
         "title": {
          "text": "Età"
         },
         "tracegroupgap": 0
        },
        "template": {
         "data": {
          "bar": [
           {
            "error_x": {
             "color": "#2a3f5f"
            },
            "error_y": {
             "color": "#2a3f5f"
            },
            "marker": {
             "line": {
              "color": "#E5ECF6",
              "width": 0.5
             },
             "pattern": {
              "fillmode": "overlay",
              "size": 10,
              "solidity": 0.2
             }
            },
            "type": "bar"
           }
          ],
          "barpolar": [
           {
            "marker": {
             "line": {
              "color": "#E5ECF6",
              "width": 0.5
             },
             "pattern": {
              "fillmode": "overlay",
              "size": 10,
              "solidity": 0.2
             }
            },
            "type": "barpolar"
           }
          ],
          "carpet": [
           {
            "aaxis": {
             "endlinecolor": "#2a3f5f",
             "gridcolor": "white",
             "linecolor": "white",
             "minorgridcolor": "white",
             "startlinecolor": "#2a3f5f"
            },
            "baxis": {
             "endlinecolor": "#2a3f5f",
             "gridcolor": "white",
             "linecolor": "white",
             "minorgridcolor": "white",
             "startlinecolor": "#2a3f5f"
            },
            "type": "carpet"
           }
          ],
          "choropleth": [
           {
            "colorbar": {
             "outlinewidth": 0,
             "ticks": ""
            },
            "type": "choropleth"
           }
          ],
          "contour": [
           {
            "colorbar": {
             "outlinewidth": 0,
             "ticks": ""
            },
            "colorscale": [
             [
              0,
              "#0d0887"
             ],
             [
              0.1111111111111111,
              "#46039f"
             ],
             [
              0.2222222222222222,
              "#7201a8"
             ],
             [
              0.3333333333333333,
              "#9c179e"
             ],
             [
              0.4444444444444444,
              "#bd3786"
             ],
             [
              0.5555555555555556,
              "#d8576b"
             ],
             [
              0.6666666666666666,
              "#ed7953"
             ],
             [
              0.7777777777777778,
              "#fb9f3a"
             ],
             [
              0.8888888888888888,
              "#fdca26"
             ],
             [
              1,
              "#f0f921"
             ]
            ],
            "type": "contour"
           }
          ],
          "contourcarpet": [
           {
            "colorbar": {
             "outlinewidth": 0,
             "ticks": ""
            },
            "type": "contourcarpet"
           }
          ],
          "heatmap": [
           {
            "colorbar": {
             "outlinewidth": 0,
             "ticks": ""
            },
            "colorscale": [
             [
              0,
              "#0d0887"
             ],
             [
              0.1111111111111111,
              "#46039f"
             ],
             [
              0.2222222222222222,
              "#7201a8"
             ],
             [
              0.3333333333333333,
              "#9c179e"
             ],
             [
              0.4444444444444444,
              "#bd3786"
             ],
             [
              0.5555555555555556,
              "#d8576b"
             ],
             [
              0.6666666666666666,
              "#ed7953"
             ],
             [
              0.7777777777777778,
              "#fb9f3a"
             ],
             [
              0.8888888888888888,
              "#fdca26"
             ],
             [
              1,
              "#f0f921"
             ]
            ],
            "type": "heatmap"
           }
          ],
          "heatmapgl": [
           {
            "colorbar": {
             "outlinewidth": 0,
             "ticks": ""
            },
            "colorscale": [
             [
              0,
              "#0d0887"
             ],
             [
              0.1111111111111111,
              "#46039f"
             ],
             [
              0.2222222222222222,
              "#7201a8"
             ],
             [
              0.3333333333333333,
              "#9c179e"
             ],
             [
              0.4444444444444444,
              "#bd3786"
             ],
             [
              0.5555555555555556,
              "#d8576b"
             ],
             [
              0.6666666666666666,
              "#ed7953"
             ],
             [
              0.7777777777777778,
              "#fb9f3a"
             ],
             [
              0.8888888888888888,
              "#fdca26"
             ],
             [
              1,
              "#f0f921"
             ]
            ],
            "type": "heatmapgl"
           }
          ],
          "histogram": [
           {
            "marker": {
             "pattern": {
              "fillmode": "overlay",
              "size": 10,
              "solidity": 0.2
             }
            },
            "type": "histogram"
           }
          ],
          "histogram2d": [
           {
            "colorbar": {
             "outlinewidth": 0,
             "ticks": ""
            },
            "colorscale": [
             [
              0,
              "#0d0887"
             ],
             [
              0.1111111111111111,
              "#46039f"
             ],
             [
              0.2222222222222222,
              "#7201a8"
             ],
             [
              0.3333333333333333,
              "#9c179e"
             ],
             [
              0.4444444444444444,
              "#bd3786"
             ],
             [
              0.5555555555555556,
              "#d8576b"
             ],
             [
              0.6666666666666666,
              "#ed7953"
             ],
             [
              0.7777777777777778,
              "#fb9f3a"
             ],
             [
              0.8888888888888888,
              "#fdca26"
             ],
             [
              1,
              "#f0f921"
             ]
            ],
            "type": "histogram2d"
           }
          ],
          "histogram2dcontour": [
           {
            "colorbar": {
             "outlinewidth": 0,
             "ticks": ""
            },
            "colorscale": [
             [
              0,
              "#0d0887"
             ],
             [
              0.1111111111111111,
              "#46039f"
             ],
             [
              0.2222222222222222,
              "#7201a8"
             ],
             [
              0.3333333333333333,
              "#9c179e"
             ],
             [
              0.4444444444444444,
              "#bd3786"
             ],
             [
              0.5555555555555556,
              "#d8576b"
             ],
             [
              0.6666666666666666,
              "#ed7953"
             ],
             [
              0.7777777777777778,
              "#fb9f3a"
             ],
             [
              0.8888888888888888,
              "#fdca26"
             ],
             [
              1,
              "#f0f921"
             ]
            ],
            "type": "histogram2dcontour"
           }
          ],
          "mesh3d": [
           {
            "colorbar": {
             "outlinewidth": 0,
             "ticks": ""
            },
            "type": "mesh3d"
           }
          ],
          "parcoords": [
           {
            "line": {
             "colorbar": {
              "outlinewidth": 0,
              "ticks": ""
             }
            },
            "type": "parcoords"
           }
          ],
          "pie": [
           {
            "automargin": true,
            "type": "pie"
           }
          ],
          "scatter": [
           {
            "fillpattern": {
             "fillmode": "overlay",
             "size": 10,
             "solidity": 0.2
            },
            "type": "scatter"
           }
          ],
          "scatter3d": [
           {
            "line": {
             "colorbar": {
              "outlinewidth": 0,
              "ticks": ""
             }
            },
            "marker": {
             "colorbar": {
              "outlinewidth": 0,
              "ticks": ""
             }
            },
            "type": "scatter3d"
           }
          ],
          "scattercarpet": [
           {
            "marker": {
             "colorbar": {
              "outlinewidth": 0,
              "ticks": ""
             }
            },
            "type": "scattercarpet"
           }
          ],
          "scattergeo": [
           {
            "marker": {
             "colorbar": {
              "outlinewidth": 0,
              "ticks": ""
             }
            },
            "type": "scattergeo"
           }
          ],
          "scattergl": [
           {
            "marker": {
             "colorbar": {
              "outlinewidth": 0,
              "ticks": ""
             }
            },
            "type": "scattergl"
           }
          ],
          "scattermapbox": [
           {
            "marker": {
             "colorbar": {
              "outlinewidth": 0,
              "ticks": ""
             }
            },
            "type": "scattermapbox"
           }
          ],
          "scatterpolar": [
           {
            "marker": {
             "colorbar": {
              "outlinewidth": 0,
              "ticks": ""
             }
            },
            "type": "scatterpolar"
           }
          ],
          "scatterpolargl": [
           {
            "marker": {
             "colorbar": {
              "outlinewidth": 0,
              "ticks": ""
             }
            },
            "type": "scatterpolargl"
           }
          ],
          "scatterternary": [
           {
            "marker": {
             "colorbar": {
              "outlinewidth": 0,
              "ticks": ""
             }
            },
            "type": "scatterternary"
           }
          ],
          "surface": [
           {
            "colorbar": {
             "outlinewidth": 0,
             "ticks": ""
            },
            "colorscale": [
             [
              0,
              "#0d0887"
             ],
             [
              0.1111111111111111,
              "#46039f"
             ],
             [
              0.2222222222222222,
              "#7201a8"
             ],
             [
              0.3333333333333333,
              "#9c179e"
             ],
             [
              0.4444444444444444,
              "#bd3786"
             ],
             [
              0.5555555555555556,
              "#d8576b"
             ],
             [
              0.6666666666666666,
              "#ed7953"
             ],
             [
              0.7777777777777778,
              "#fb9f3a"
             ],
             [
              0.8888888888888888,
              "#fdca26"
             ],
             [
              1,
              "#f0f921"
             ]
            ],
            "type": "surface"
           }
          ],
          "table": [
           {
            "cells": {
             "fill": {
              "color": "#EBF0F8"
             },
             "line": {
              "color": "white"
             }
            },
            "header": {
             "fill": {
              "color": "#C8D4E3"
             },
             "line": {
              "color": "white"
             }
            },
            "type": "table"
           }
          ]
         },
         "layout": {
          "annotationdefaults": {
           "arrowcolor": "#2a3f5f",
           "arrowhead": 0,
           "arrowwidth": 1
          },
          "autotypenumbers": "strict",
          "coloraxis": {
           "colorbar": {
            "outlinewidth": 0,
            "ticks": ""
           }
          },
          "colorscale": {
           "diverging": [
            [
             0,
             "#8e0152"
            ],
            [
             0.1,
             "#c51b7d"
            ],
            [
             0.2,
             "#de77ae"
            ],
            [
             0.3,
             "#f1b6da"
            ],
            [
             0.4,
             "#fde0ef"
            ],
            [
             0.5,
             "#f7f7f7"
            ],
            [
             0.6,
             "#e6f5d0"
            ],
            [
             0.7,
             "#b8e186"
            ],
            [
             0.8,
             "#7fbc41"
            ],
            [
             0.9,
             "#4d9221"
            ],
            [
             1,
             "#276419"
            ]
           ],
           "sequential": [
            [
             0,
             "#0d0887"
            ],
            [
             0.1111111111111111,
             "#46039f"
            ],
            [
             0.2222222222222222,
             "#7201a8"
            ],
            [
             0.3333333333333333,
             "#9c179e"
            ],
            [
             0.4444444444444444,
             "#bd3786"
            ],
            [
             0.5555555555555556,
             "#d8576b"
            ],
            [
             0.6666666666666666,
             "#ed7953"
            ],
            [
             0.7777777777777778,
             "#fb9f3a"
            ],
            [
             0.8888888888888888,
             "#fdca26"
            ],
            [
             1,
             "#f0f921"
            ]
           ],
           "sequentialminus": [
            [
             0,
             "#0d0887"
            ],
            [
             0.1111111111111111,
             "#46039f"
            ],
            [
             0.2222222222222222,
             "#7201a8"
            ],
            [
             0.3333333333333333,
             "#9c179e"
            ],
            [
             0.4444444444444444,
             "#bd3786"
            ],
            [
             0.5555555555555556,
             "#d8576b"
            ],
            [
             0.6666666666666666,
             "#ed7953"
            ],
            [
             0.7777777777777778,
             "#fb9f3a"
            ],
            [
             0.8888888888888888,
             "#fdca26"
            ],
            [
             1,
             "#f0f921"
            ]
           ]
          },
          "colorway": [
           "#636efa",
           "#EF553B",
           "#00cc96",
           "#ab63fa",
           "#FFA15A",
           "#19d3f3",
           "#FF6692",
           "#B6E880",
           "#FF97FF",
           "#FECB52"
          ],
          "font": {
           "color": "#2a3f5f"
          },
          "geo": {
           "bgcolor": "white",
           "lakecolor": "white",
           "landcolor": "#E5ECF6",
           "showlakes": true,
           "showland": true,
           "subunitcolor": "white"
          },
          "hoverlabel": {
           "align": "left"
          },
          "hovermode": "closest",
          "mapbox": {
           "style": "light"
          },
          "paper_bgcolor": "white",
          "plot_bgcolor": "#E5ECF6",
          "polar": {
           "angularaxis": {
            "gridcolor": "white",
            "linecolor": "white",
            "ticks": ""
           },
           "bgcolor": "#E5ECF6",
           "radialaxis": {
            "gridcolor": "white",
            "linecolor": "white",
            "ticks": ""
           }
          },
          "scene": {
           "xaxis": {
            "backgroundcolor": "#E5ECF6",
            "gridcolor": "white",
            "gridwidth": 2,
            "linecolor": "white",
            "showbackground": true,
            "ticks": "",
            "zerolinecolor": "white"
           },
           "yaxis": {
            "backgroundcolor": "#E5ECF6",
            "gridcolor": "white",
            "gridwidth": 2,
            "linecolor": "white",
            "showbackground": true,
            "ticks": "",
            "zerolinecolor": "white"
           },
           "zaxis": {
            "backgroundcolor": "#E5ECF6",
            "gridcolor": "white",
            "gridwidth": 2,
            "linecolor": "white",
            "showbackground": true,
            "ticks": "",
            "zerolinecolor": "white"
           }
          },
          "shapedefaults": {
           "line": {
            "color": "#2a3f5f"
           }
          },
          "ternary": {
           "aaxis": {
            "gridcolor": "white",
            "linecolor": "white",
            "ticks": ""
           },
           "baxis": {
            "gridcolor": "white",
            "linecolor": "white",
            "ticks": ""
           },
           "bgcolor": "#E5ECF6",
           "caxis": {
            "gridcolor": "white",
            "linecolor": "white",
            "ticks": ""
           }
          },
          "title": {
           "x": 0.05
          },
          "xaxis": {
           "automargin": true,
           "gridcolor": "white",
           "linecolor": "white",
           "ticks": "",
           "title": {
            "standoff": 15
           },
           "zerolinecolor": "white",
           "zerolinewidth": 2
          },
          "yaxis": {
           "automargin": true,
           "gridcolor": "white",
           "linecolor": "white",
           "ticks": "",
           "title": {
            "standoff": 15
           },
           "zerolinecolor": "white",
           "zerolinewidth": 2
          }
         }
        },
        "title": {
         "text": "Evoluzione degli spostamenti negli anni (Età)"
        },
        "xaxis": {
         "anchor": "y",
         "domain": [
          0,
          1
         ],
         "title": {
          "text": "annrif"
         }
        },
        "yaxis": {
         "anchor": "x",
         "domain": [
          0,
          1
         ],
         "title": {
          "text": "count"
         }
        }
       }
      }
     },
     "metadata": {},
     "output_type": "display_data"
    }
   ],
   "source": [
    "# LINECHART\n",
    "# Evoluzione degli spostamenti negli anni (età)\n",
    "\n",
    "# TODO: Cambiare Nomi delle variabili\n",
    "conteggio = data.groupby(['annrif', 'Età']).size().reset_index(name='count')\n",
    "\n",
    "# Colori che vanno dal rosso (<= 14 yo) al verde (>= 75 yo)\n",
    "colori = ['#FF0000', '#FF4500', '#FF8C00', '#FFD700', '#ADFF2F', '#7FFF00', '#32CD32', '#008000']\n",
    "\n",
    "fig = px.line(conteggio,x='annrif', y='count' , color=\"Età\",\n",
    "              title='Evoluzione degli spostamenti negli anni (Età)',\n",
    "              color_discrete_sequence=colori)\n",
    "fig.show()\n"
   ]
  },
  {
   "cell_type": "code",
   "execution_count": 53,
   "metadata": {},
   "outputs": [],
   "source": [
    "# SUNBURST"
   ]
  },
  {
   "cell_type": "code",
   "execution_count": 54,
   "metadata": {},
   "outputs": [],
   "source": [
    "# MAP"
   ]
  }
 ],
 "metadata": {
  "kernelspec": {
   "display_name": "Python 3",
   "language": "python",
   "name": "python3"
  },
  "language_info": {
   "codemirror_mode": {
    "name": "ipython",
    "version": 3
   },
   "file_extension": ".py",
   "mimetype": "text/x-python",
   "name": "python",
   "nbconvert_exporter": "python",
   "pygments_lexer": "ipython3",
   "version": "3.12.2"
  }
 },
 "nbformat": 4,
 "nbformat_minor": 2
}
