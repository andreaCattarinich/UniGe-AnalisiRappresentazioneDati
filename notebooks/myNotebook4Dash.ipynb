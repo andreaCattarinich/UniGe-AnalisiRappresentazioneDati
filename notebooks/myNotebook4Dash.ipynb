{
 "cells": [
  {
   "cell_type": "code",
   "execution_count": 2,
   "metadata": {},
   "outputs": [
    {
     "data": {
      "text/html": [
       "\n",
       "        <iframe\n",
       "            width=\"100%\"\n",
       "            height=\"650\"\n",
       "            src=\"http://127.0.0.1:8050/\"\n",
       "            frameborder=\"0\"\n",
       "            allowfullscreen\n",
       "            \n",
       "        ></iframe>\n",
       "        "
      ],
      "text/plain": [
       "<IPython.lib.display.IFrame at 0x174f01bf7d0>"
      ]
     },
     "metadata": {},
     "output_type": "display_data"
    }
   ],
   "source": [
    "import dash\n",
    "from dash import dcc, html\n",
    "\n",
    "\n",
    "app = dash.Dash(__name__)\n",
    "\n",
    "app.layout = html.Div([\n",
    "    html.H1(\"Dashboard Interattiva con Dash\"),\n",
    "    dcc.Graph(\n",
    "        id='example-graph',\n",
    "        figure={\n",
    "            'data': [\n",
    "                {'x': [1, 2, 3], 'y': [4, 1, 2], 'type': 'bar', 'name': 'Bar Chart'},\n",
    "                {'x': [1, 2, 3], 'y': [2, 4, 5], 'type': 'line', 'name': 'Line Chart'},\n",
    "            ],\n",
    "            'layout': {\n",
    "                'title': 'Grafici di Esempio'\n",
    "            }\n",
    "        }\n",
    "    ),\n",
    "    dcc.Dropdown(\n",
    "        id='dropdown',\n",
    "        options=[\n",
    "            {'label': 'Opzione 1', 'value': 'opzione-1'},\n",
    "            {'label': 'Opzione 2', 'value': 'opzione-2'}\n",
    "        ],\n",
    "        value='opzione-1'\n",
    "    )\n",
    "])\n",
    "\n",
    "#app.run_server()"
   ]
  }
 ],
 "metadata": {
  "kernelspec": {
   "display_name": "Python 3",
   "language": "python",
   "name": "python3"
  },
  "language_info": {
   "codemirror_mode": {
    "name": "ipython",
    "version": 3
   },
   "file_extension": ".py",
   "mimetype": "text/x-python",
   "name": "python",
   "nbconvert_exporter": "python",
   "pygments_lexer": "ipython3",
   "version": "3.12.2"
  }
 },
 "nbformat": 4,
 "nbformat_minor": 2
}
