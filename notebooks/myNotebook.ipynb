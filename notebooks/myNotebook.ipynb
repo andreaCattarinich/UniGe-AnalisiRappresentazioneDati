{
 "cells": [
  {
   "cell_type": "code",
   "execution_count": 4,
   "metadata": {},
   "outputs": [
    {
     "ename": "SyntaxError",
     "evalue": "closing parenthesis ']' does not match opening parenthesis '(' (3586673870.py, line 31)",
     "output_type": "error",
     "traceback": [
      "\u001b[1;36m  Cell \u001b[1;32mIn[4], line 31\u001b[1;36m\u001b[0m\n\u001b[1;33m    conteggio = df.groupby('Estero']).size().reset_index(name='count')\u001b[0m\n\u001b[1;37m                                   ^\u001b[0m\n\u001b[1;31mSyntaxError\u001b[0m\u001b[1;31m:\u001b[0m closing parenthesis ']' does not match opening parenthesis '('\n"
     ]
    }
   ],
   "source": [
    "import dash\n",
    "from dash import dcc, html\n",
    "from dash.dependencies import Input, Output\n",
    "import pandas as pd\n",
    "import plotly.express as px\n",
    "import dash_bootstrap_components as dbc\n",
    "import dizionari\n",
    "import datetime\n",
    "\n",
    "data = pd.read_csv(\"../data/ISTAT_Italian_Excursion_2014_2022.csv\")\n",
    "\n",
    "# CREO UN NUOVO DATAFRAME PIU' VERSATILE\n",
    "# Nota: Nel nostro dataframe non sono presenti valori nulli [data.isnull().sum()]\n",
    "\n",
    "# Rimozione di colonne ridondanti e superflui\n",
    "colonne_da_eliminare = [\"ID\", \"progind\", \"sesso\", \"staciv4\", \"condogg\", \"posiz4\", \"ateco3\", \"cond4\", \"ORARIO\", \"RAPP\", \"CODPROF7\", \"progesc\", \"PARTESC\", \"NPARTESC\"]\n",
    "df = data.drop(columns=colonne_da_eliminare)\n",
    "\n",
    "# Rinomina delle colonne\n",
    "df.rename(columns = dizionari.dizionario_nomi, inplace=True)\n",
    "\n",
    "# Creazione di una colonna 'Data' nel formato (ANNO-mese)\n",
    "df['Data'] = pd.to_datetime(df['Anno'].apply(str) + '-' + df['Mese'].apply(str), format='%Y-%m')\n",
    "df[\"Data\"] = df[\"Data\"].dt.strftime(\"%Y-%m\")\n",
    "\n",
    "# Colonna Età nel formato (anno)\n",
    "df['Età'] = df['Età'].map(dizionari.eta_mapping)\n",
    "\n",
    "df\n",
    "\n",
    "conteggio = df.groupby([]'Estero']).size().reset_index(name='count')\n",
    "conteggio"
   ]
  },
  {
   "cell_type": "code",
   "execution_count": null,
   "metadata": {},
   "outputs": [],
   "source": [
    "\n",
    "\n"
   ]
  }
 ],
 "metadata": {
  "kernelspec": {
   "display_name": "Python 3",
   "language": "python",
   "name": "python3"
  },
  "language_info": {
   "codemirror_mode": {
    "name": "ipython",
    "version": 3
   },
   "file_extension": ".py",
   "mimetype": "text/x-python",
   "name": "python",
   "nbconvert_exporter": "python",
   "pygments_lexer": "ipython3",
   "version": "3.12.2"
  }
 },
 "nbformat": 4,
 "nbformat_minor": 2
}
