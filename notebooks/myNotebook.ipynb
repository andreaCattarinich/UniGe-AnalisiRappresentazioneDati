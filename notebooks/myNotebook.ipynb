{
 "cells": [
  {
   "cell_type": "code",
   "execution_count": 5,
   "metadata": {},
   "outputs": [
    {
     "data": {
      "text/html": [
       "<div>\n",
       "<style scoped>\n",
       "    .dataframe tbody tr th:only-of-type {\n",
       "        vertical-align: middle;\n",
       "    }\n",
       "\n",
       "    .dataframe tbody tr th {\n",
       "        vertical-align: top;\n",
       "    }\n",
       "\n",
       "    .dataframe thead th {\n",
       "        text-align: right;\n",
       "    }\n",
       "</style>\n",
       "<table border=\"1\" class=\"dataframe\">\n",
       "  <thead>\n",
       "    <tr style=\"text-align: right;\">\n",
       "      <th></th>\n",
       "      <th>Estero</th>\n",
       "      <th>count</th>\n",
       "    </tr>\n",
       "  </thead>\n",
       "  <tbody>\n",
       "    <tr>\n",
       "      <th>0</th>\n",
       "      <td>1</td>\n",
       "      <td>37039</td>\n",
       "    </tr>\n",
       "    <tr>\n",
       "      <th>1</th>\n",
       "      <td>2</td>\n",
       "      <td>790</td>\n",
       "    </tr>\n",
       "  </tbody>\n",
       "</table>\n",
       "</div>"
      ],
      "text/plain": [
       "   Estero  count\n",
       "0       1  37039\n",
       "1       2    790"
      ]
     },
     "execution_count": 5,
     "metadata": {},
     "output_type": "execute_result"
    }
   ],
   "source": [
    "import dash\n",
    "from dash import dcc, html\n",
    "from dash.dependencies import Input, Output\n",
    "import pandas as pd\n",
    "import plotly.express as px\n",
    "import dash_bootstrap_components as dbc\n",
    "import dizionari\n",
    "import datetime\n",
    "\n",
    "data = pd.read_csv(\"../data/ISTAT_Italian_Excursion_2014_2022.csv\")\n",
    "\n",
    "# CREO UN NUOVO DATAFRAME PIU' VERSATILE\n",
    "# Nota: Nel nostro dataframe non sono presenti valori nulli [data.isnull().sum()]\n",
    "\n",
    "# Rimozione di colonne ridondanti e superflui\n",
    "colonne_da_eliminare = [\"ID\", \"progind\", \"sesso\", \"staciv4\", \"condogg\", \"posiz4\", \"ateco3\", \"cond4\", \"ORARIO\", \"RAPP\", \"CODPROF7\", \"progesc\", \"PARTESC\", \"NPARTESC\"]\n",
    "df = data.drop(columns=colonne_da_eliminare)\n",
    "\n",
    "# Rinomina delle colonne\n",
    "df.rename(columns = dizionari.dizionario_nomi, inplace=True)\n",
    "\n",
    "# Creazione di una colonna 'Data' nel formato (ANNO-mese)\n",
    "df['Data'] = pd.to_datetime(df['Anno'].apply(str) + '-' + df['Mese'].apply(str), format='%Y-%m')\n",
    "df[\"Data\"] = df[\"Data\"].dt.strftime(\"%Y-%m\")\n",
    "\n",
    "# Colonna Età nel formato (anno)\n",
    "df['Età'] = df['Età'].map(dizionari.eta_mapping)\n",
    "\n",
    "df\n",
    "\n",
    "conteggio = df.groupby(['Estero']).size().reset_index(name='count')\n",
    "conteggio"
   ]
  },
  {
   "cell_type": "code",
   "execution_count": null,
   "metadata": {},
   "outputs": [],
   "source": [
    "\n",
    "\n"
   ]
  }
 ],
 "metadata": {
  "kernelspec": {
   "display_name": "Python 3",
   "language": "python",
   "name": "python3"
  },
  "language_info": {
   "codemirror_mode": {
    "name": "ipython",
    "version": 3
   },
   "file_extension": ".py",
   "mimetype": "text/x-python",
   "name": "python",
   "nbconvert_exporter": "python",
   "pygments_lexer": "ipython3",
   "version": "3.12.2"
  }
 },
 "nbformat": 4,
 "nbformat_minor": 2
}
